{
 "cells": [
  {
   "cell_type": "markdown",
   "metadata": {},
   "source": [
    "Our Model has been trained and we will now be using its saved weights for inference purposes"
   ]
  },
  {
   "cell_type": "code",
   "execution_count": 1,
   "metadata": {},
   "outputs": [
    {
     "data": {
      "text/plain": [
       "GraphSAGE(\n",
       "  (conv1): SAGEConv(\n",
       "    (feat_drop): Dropout(p=0.0, inplace=False)\n",
       "    (fc_neigh): Linear(in_features=224, out_features=16, bias=False)\n",
       "    (fc_self): Linear(in_features=224, out_features=16, bias=True)\n",
       "  )\n",
       "  (conv2): SAGEConv(\n",
       "    (feat_drop): Dropout(p=0.0, inplace=False)\n",
       "    (fc_neigh): Linear(in_features=16, out_features=16, bias=False)\n",
       "    (fc_self): Linear(in_features=16, out_features=16, bias=True)\n",
       "  )\n",
       ")"
      ]
     },
     "execution_count": 1,
     "metadata": {},
     "output_type": "execute_result"
    }
   ],
   "source": [
    "import torch\n",
    "import numpy as np\n",
    "import torch.nn.functional as F\n",
    "import torch.nn as nn\n",
    "from dgl.nn import SAGEConv\n",
    "import dgl\n",
    "import dgl.data\n",
    "import pandas as pd\n",
    "\n",
    "class GraphSAGE(nn.Module):\n",
    "    def __init__(self, in_feats, h_feats):\n",
    "        super(GraphSAGE, self).__init__()\n",
    "        self.conv1 = SAGEConv(in_feats, h_feats, \"mean\")\n",
    "        self.conv2 = SAGEConv(h_feats, h_feats, \"mean\")\n",
    "\n",
    "    def forward(self, g, in_feat):\n",
    "        h = self.conv1(g, in_feat)\n",
    "        h = F.relu(h)\n",
    "        h = self.conv2(g, h)\n",
    "        return h\n",
    "    \n",
    "# Load the saved model\n",
    "model_path = \"../model/dgl_model.pt\"  # Replace with the actual path to your saved model\n",
    "model = torch.load(model_path, map_location=torch.device('cpu'))\n",
    "model.eval()"
   ]
  },
  {
   "cell_type": "code",
   "execution_count": 2,
   "metadata": {},
   "outputs": [],
   "source": [
    "author_ids = pd.read_csv('../data/author_id.csv')\n",
    "author_id_to_number = {author_id: idx for idx, author_id in enumerate(author_ids['Author'])}\n",
    "author_num_to_id = {v: k for k, v in author_id_to_number.items()}"
   ]
  },
  {
   "cell_type": "code",
   "execution_count": 3,
   "metadata": {},
   "outputs": [],
   "source": [
    "def get_top_coauthors(author_number, model, g, author_id_to_number, author_num_to_id, num_top_coauthors=5):\n",
    "    with torch.no_grad():\n",
    "        h = model(g, g.ndata['feat'].type(torch.float32))\n",
    "        author_index = author_number - 1  # Convert author number to 0-based index\n",
    "        author_embedding = h[author_index]\n",
    "\n",
    "        # Compute similarity scores between the input author and all other authors\n",
    "        similarity_scores = torch.cosine_similarity(author_embedding, h, dim=1)\n",
    "\n",
    "        # Get indices of top coauthors based on similarity scores\n",
    "        top_indices = np.argsort(similarity_scores.numpy())[-(num_top_coauthors+1):-1][::-1]  # Exclude the input author\n",
    "        top_coauthors = [author_num_to_id[i] for i in top_indices]\n",
    "        likeliness_scores = [float(similarity_scores[i]) for i in top_indices]\n",
    "\n",
    "        return top_coauthors, likeliness_scores"
   ]
  },
  {
   "cell_type": "code",
   "execution_count": 7,
   "metadata": {},
   "outputs": [],
   "source": [
    "def main():\n",
    "    dataset = dgl.data.CSVDataset('../data/author_data')\n",
    "    g = dataset[0]\n",
    "    g = dgl.add_self_loop(g)\n",
    "    input_author_number = int(input(\"Enter an author number (1 to 333): \"))\n",
    "    if input_author_number < 1 or input_author_number > 333:\n",
    "        print(\"Invalid author number. Please enter a number between 1 and 333.\")\n",
    "        return\n",
    "\n",
    "    top_coauthors, likeliness_scores = get_top_coauthors(input_author_number, model, g, author_id_to_number, author_num_to_id)\n",
    "\n",
    "    print(\"Input Author Number:\", input_author_number)\n",
    "    print(\"Top Coauthors:\", top_coauthors)\n",
    "    print(\"Likeliness Scores:\", likeliness_scores)\n"
   ]
  },
  {
   "cell_type": "code",
   "execution_count": 8,
   "metadata": {},
   "outputs": [
    {
     "name": "stdout",
     "output_type": "stream",
     "text": [
      "Done loading data from cached files.\n",
      "Input Author Number: 97\n",
      "Top Coauthors: ['authorID_36ebe_205bc_dfc49_9a25e_6923f', 'authorID_3f980_7cb9a_e9fb6_c3094_2af61', 'authorID_0a5b0_46d07_f6f97_1b777_6de68', 'authorID_33512_00784_0ced1_bb0aa_b68f4', 'authorID_1253e_9373e_781b7_50026_6caa5']\n",
      "Likeliness Scores: [0.9611250162124634, 0.9605594873428345, 0.9423330426216125, 0.9376060962677002, 0.9365097284317017]\n"
     ]
    }
   ],
   "source": [
    "main()"
   ]
  }
 ],
 "metadata": {
  "kernelspec": {
   "display_name": ".venv",
   "language": "python",
   "name": "python3"
  },
  "language_info": {
   "codemirror_mode": {
    "name": "ipython",
    "version": 3
   },
   "file_extension": ".py",
   "mimetype": "text/x-python",
   "name": "python",
   "nbconvert_exporter": "python",
   "pygments_lexer": "ipython3",
   "version": "3.11.3"
  },
  "orig_nbformat": 4
 },
 "nbformat": 4,
 "nbformat_minor": 2
}
