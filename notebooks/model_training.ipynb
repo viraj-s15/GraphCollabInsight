{
 "cells": [
  {
   "cell_type": "markdown",
   "metadata": {},
   "source": [
    "An Alternate pytorch Geometric script tot he dgl function"
   ]
  },
  {
   "cell_type": "code",
   "execution_count": null,
   "metadata": {},
   "outputs": [],
   "source": [
    "import torch\n",
    "import torch.nn as nn\n",
    "import torch.optim as optim\n",
    "import torch_geometric.transforms as T\n",
    "from torch_geometric.data import Data\n",
    "from torch_geometric.nn import GCNConv\n",
    "import pandas as pd\n",
    "from tqdm import tqdm\n",
    "from sklearn.model_selection import train_test_split"
   ]
  },
  {
   "cell_type": "code",
   "execution_count": null,
   "metadata": {},
   "outputs": [],
   "source": [
    "authors_df = pd.read_csv(\"../data/author_id.csv\")\n",
    "edges_df = pd.read_csv(\"../data/co_author_relation.csv\")\n",
    "features_df = pd.read_csv(\"../data/author_coauthor_features.csv\")"
   ]
  },
  {
   "cell_type": "code",
   "execution_count": null,
   "metadata": {},
   "outputs": [],
   "source": [
    "author_id_to_number = {author_id: idx for idx, author_id in enumerate(authors_df['Author'])}\n",
    "edges_df['Author_id_num_1'] = edges_df['Author1'].map(author_id_to_number)\n",
    "edges_df['Author_id_num_2'] = edges_df['Author2'].map(author_id_to_number)\n",
    "edges_df_copy = edges_df.copy()\n",
    "columns = [\"Author1\",\"Author2\"]\n",
    "edges_df_copy.drop(columns=columns, inplace=True)\n",
    "edges_df_copy.head()"
   ]
  },
  {
   "cell_type": "code",
   "execution_count": null,
   "metadata": {},
   "outputs": [],
   "source": [
    "num_nodes = len(authors_df)\n",
    "num_features = len(features_df.columns) - 1  # Subtract 1 for the 'Author' column\n",
    "num_edges = len(edges_df)\n",
    "\n",
    "co_author_mapping = set(zip(edges_df_copy['Author_id_num_1'], edges_df_copy['Author_id_num_2']))\n",
    "edge_index = torch.tensor(edges_df_copy[['Author_id_num_1', 'Author_id_num_2']].values, dtype=torch.long).t().contiguous()\n",
    "x = torch.tensor(features_df.iloc[:, 1:].values, dtype=torch.float32)\n",
    "y = torch.tensor([1 if (i, j) in co_author_mapping or (j, i) in co_author_mapping else 0 for i, j in edge_index.t().tolist()], dtype=torch.float32)"
   ]
  },
  {
   "cell_type": "code",
   "execution_count": null,
   "metadata": {},
   "outputs": [],
   "source": [
    "\n",
    "\n",
    "data = Data(x=x, edge_index=edge_index, y=y)\n",
    "data = data if not hasattr(data, 'transform') else data.transform(T.NormalizeFeatures())\n",
    "data.num_features"
   ]
  },
  {
   "cell_type": "code",
   "execution_count": null,
   "metadata": {},
   "outputs": [],
   "source": [
    "x.shape"
   ]
  },
  {
   "cell_type": "code",
   "execution_count": null,
   "metadata": {},
   "outputs": [],
   "source": [
    "class LinkPredictionModel(nn.Module):\n",
    "    def __init__(self, num_nodes, num_features):\n",
    "        super(LinkPredictionModel, self).__init__()\n",
    "        self.conv1 = GCNConv(num_features, 128)\n",
    "        self.conv2 = GCNConv(128, 64)\n",
    "        self.fc = nn.Linear(64, num_features)  # Output num_features for each edge\n",
    "\n",
    "    def forward(self, x, edge_index):\n",
    "        x = self.conv1(x, edge_index)\n",
    "        x = torch.relu(x)\n",
    "        x = self.conv2(x, edge_index)\n",
    "        x = torch.relu(x)\n",
    "        x = self.fc(x)\n",
    "        return x\n",
    "\n",
    "# Initialize the model, optimizer, and loss criterion\n",
    "model = LinkPredictionModel(num_nodes, num_features)\n",
    "optimizer = torch.optim.Adam(model.parameters(), lr=0.01)\n",
    "criterion = nn.BCEWithLogitsLoss()"
   ]
  },
  {
   "cell_type": "code",
   "execution_count": null,
   "metadata": {},
   "outputs": [],
   "source": [
    "def train(epoch):\n",
    "    model.train()\n",
    "    optimizer.zero_grad()\n",
    "    out = model(data.x, data.edge_index)\n",
    "    loss = criterion(out[data.train_mask], data.y[data.train_mask])\n",
    "    loss.backward()\n",
    "    optimizer.step()\n"
   ]
  },
  {
   "cell_type": "code",
   "execution_count": null,
   "metadata": {},
   "outputs": [],
   "source": [
    "for epoch in tqdm(range(1, 201)):\n",
    "    train(epoch)"
   ]
  },
  {
   "cell_type": "code",
   "execution_count": null,
   "metadata": {},
   "outputs": [],
   "source": [
    "target_author_index = 100\n",
    "\n",
    "# Prepare target author's features\n",
    "target_author_features = torch.tensor(data.x[target_author_index], dtype=torch.float16)\n",
    "\n",
    "# Inference and predicting potential co-authors\n",
    "model.eval()\n",
    "predicted_scores = model(target_author_features.unsqueeze(0), data.edge_index)\n",
    "\n",
    "# Find top 5 potential co-authors\n",
    "sorted_indices = torch.argsort(predicted_scores, descending=True)\n",
    "top_indices = [idx.item() for idx in sorted_indices if idx != target_author_index][:5]\n",
    "\n",
    "print(\"Top 5 Potential Co-Authors:\")\n",
    "for i, index in enumerate(top_indices):\n",
    "    print(f\"{i + 1}. Author index: {index}\")"
   ]
  },
  {
   "cell_type": "code",
   "execution_count": null,
   "metadata": {},
   "outputs": [],
   "source": []
  }
 ],
 "metadata": {
  "kernelspec": {
   "display_name": ".venv",
   "language": "python",
   "name": "python3"
  },
  "language_info": {
   "codemirror_mode": {
    "name": "ipython",
    "version": 3
   },
   "file_extension": ".py",
   "mimetype": "text/x-python",
   "name": "python",
   "nbconvert_exporter": "python",
   "pygments_lexer": "ipython3",
   "version": "3.11.3"
  },
  "orig_nbformat": 4
 },
 "nbformat": 4,
 "nbformat_minor": 2
}
